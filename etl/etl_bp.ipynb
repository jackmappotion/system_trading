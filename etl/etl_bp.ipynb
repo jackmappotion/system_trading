{
 "cells": [
  {
   "cell_type": "code",
   "execution_count": 1,
   "metadata": {},
   "outputs": [],
   "source": [
    "import datetime as dt\n",
    "import pandas as pd"
   ]
  },
  {
   "cell_type": "code",
   "execution_count": 2,
   "metadata": {},
   "outputs": [],
   "source": [
    "from private import Private"
   ]
  },
  {
   "cell_type": "code",
   "execution_count": 3,
   "metadata": {},
   "outputs": [
    {
     "data": {
      "application/vnd.jupyter.widget-view+json": {
       "model_id": "c5b5c1456e04414d9f14d5d9e4667ced",
       "version_major": 2,
       "version_minor": 0
      },
      "text/plain": [
       "Output()"
      ]
     },
     "metadata": {},
     "output_type": "display_data"
    },
    {
     "data": {
      "application/vnd.jupyter.widget-view+json": {
       "model_id": "e61b1ef5fbd5465bb7008619167ef962",
       "version_major": 2,
       "version_minor": 0
      },
      "text/plain": [
       "Output()"
      ]
     },
     "metadata": {},
     "output_type": "display_data"
    },
    {
     "data": {
      "application/vnd.jupyter.widget-view+json": {
       "model_id": "0a16d9ae32d14a78be848a9115aecbf4",
       "version_major": 2,
       "version_minor": 0
      },
      "text/plain": [
       "Output()"
      ]
     },
     "metadata": {},
     "output_type": "display_data"
    },
    {
     "data": {
      "text/html": [
       "<div>\n",
       "<style scoped>\n",
       "    .dataframe tbody tr th:only-of-type {\n",
       "        vertical-align: middle;\n",
       "    }\n",
       "\n",
       "    .dataframe tbody tr th {\n",
       "        vertical-align: top;\n",
       "    }\n",
       "\n",
       "    .dataframe thead th {\n",
       "        text-align: right;\n",
       "    }\n",
       "</style>\n",
       "<table border=\"1\" class=\"dataframe\">\n",
       "  <thead>\n",
       "    <tr style=\"text-align: right;\">\n",
       "      <th></th>\n",
       "      <th>corp_code</th>\n",
       "      <th>corp_name</th>\n",
       "      <th>stock_code</th>\n",
       "      <th>modify_date</th>\n",
       "      <th>sector</th>\n",
       "      <th>product</th>\n",
       "      <th>corp_cls</th>\n",
       "      <th>trading_halt</th>\n",
       "      <th>issue</th>\n",
       "    </tr>\n",
       "  </thead>\n",
       "  <tbody>\n",
       "    <tr>\n",
       "      <th>2006</th>\n",
       "      <td>00260985</td>\n",
       "      <td>한빛네트</td>\n",
       "      <td>036720</td>\n",
       "      <td>20170630</td>\n",
       "      <td>NaN</td>\n",
       "      <td>NaN</td>\n",
       "      <td>NaN</td>\n",
       "      <td>NaN</td>\n",
       "      <td>NaN</td>\n",
       "    </tr>\n",
       "    <tr>\n",
       "      <th>2018</th>\n",
       "      <td>00264529</td>\n",
       "      <td>엔플렉스</td>\n",
       "      <td>040130</td>\n",
       "      <td>20170630</td>\n",
       "      <td>NaN</td>\n",
       "      <td>NaN</td>\n",
       "      <td>NaN</td>\n",
       "      <td>NaN</td>\n",
       "      <td>NaN</td>\n",
       "    </tr>\n",
       "    <tr>\n",
       "      <th>2019</th>\n",
       "      <td>00358545</td>\n",
       "      <td>동서정보기술</td>\n",
       "      <td>055000</td>\n",
       "      <td>20170630</td>\n",
       "      <td>NaN</td>\n",
       "      <td>NaN</td>\n",
       "      <td>NaN</td>\n",
       "      <td>NaN</td>\n",
       "      <td>NaN</td>\n",
       "    </tr>\n",
       "    <tr>\n",
       "      <th>2781</th>\n",
       "      <td>00231567</td>\n",
       "      <td>애드모바일</td>\n",
       "      <td>032600</td>\n",
       "      <td>20170630</td>\n",
       "      <td>NaN</td>\n",
       "      <td>NaN</td>\n",
       "      <td>NaN</td>\n",
       "      <td>NaN</td>\n",
       "      <td>NaN</td>\n",
       "    </tr>\n",
       "    <tr>\n",
       "      <th>3884</th>\n",
       "      <td>00247939</td>\n",
       "      <td>씨모스</td>\n",
       "      <td>037600</td>\n",
       "      <td>20170630</td>\n",
       "      <td>NaN</td>\n",
       "      <td>NaN</td>\n",
       "      <td>NaN</td>\n",
       "      <td>NaN</td>\n",
       "      <td>NaN</td>\n",
       "    </tr>\n",
       "    <tr>\n",
       "      <th>...</th>\n",
       "      <td>...</td>\n",
       "      <td>...</td>\n",
       "      <td>...</td>\n",
       "      <td>...</td>\n",
       "      <td>...</td>\n",
       "      <td>...</td>\n",
       "      <td>...</td>\n",
       "      <td>...</td>\n",
       "      <td>...</td>\n",
       "    </tr>\n",
       "    <tr>\n",
       "      <th>104138</th>\n",
       "      <td>00126414</td>\n",
       "      <td>삼성제약</td>\n",
       "      <td>001360</td>\n",
       "      <td>20231005</td>\n",
       "      <td>의약품 제조업</td>\n",
       "      <td>의약품(까스명수,쓸기담,에프킬라에어졸,액체우황청심원) 제조,도매</td>\n",
       "      <td>Y</td>\n",
       "      <td>NaN</td>\n",
       "      <td>NaN</td>\n",
       "    </tr>\n",
       "    <tr>\n",
       "      <th>104148</th>\n",
       "      <td>00116426</td>\n",
       "      <td>코센</td>\n",
       "      <td>009730</td>\n",
       "      <td>20231205</td>\n",
       "      <td>1차 철강 제조업</td>\n",
       "      <td>스테인리스파이프, 선박용배관제작</td>\n",
       "      <td>K</td>\n",
       "      <td>NaN</td>\n",
       "      <td>NaN</td>\n",
       "    </tr>\n",
       "    <tr>\n",
       "      <th>104149</th>\n",
       "      <td>00107987</td>\n",
       "      <td>남해화학</td>\n",
       "      <td>025860</td>\n",
       "      <td>20231205</td>\n",
       "      <td>비료, 농약 및 살균, 살충제 제조업</td>\n",
       "      <td>비료(요소,복합비료),공업제품원료 제조,도매</td>\n",
       "      <td>Y</td>\n",
       "      <td>NaN</td>\n",
       "      <td>NaN</td>\n",
       "    </tr>\n",
       "    <tr>\n",
       "      <th>104150</th>\n",
       "      <td>01068658</td>\n",
       "      <td>디딤이앤에프</td>\n",
       "      <td>217620</td>\n",
       "      <td>20231206</td>\n",
       "      <td>음식점업</td>\n",
       "      <td>직영음식점, 축산물가공, 프랜차이즈</td>\n",
       "      <td>K</td>\n",
       "      <td>NaN</td>\n",
       "      <td>NaN</td>\n",
       "    </tr>\n",
       "    <tr>\n",
       "      <th>104153</th>\n",
       "      <td>00222213</td>\n",
       "      <td>피케이엘</td>\n",
       "      <td>039870</td>\n",
       "      <td>20231206</td>\n",
       "      <td>NaN</td>\n",
       "      <td>NaN</td>\n",
       "      <td>NaN</td>\n",
       "      <td>NaN</td>\n",
       "      <td>NaN</td>\n",
       "    </tr>\n",
       "  </tbody>\n",
       "</table>\n",
       "<p>3706 rows × 9 columns</p>\n",
       "</div>"
      ],
      "text/plain": [
       "       corp_code corp_name stock_code modify_date                sector  \\\n",
       "2006    00260985      한빛네트     036720    20170630                   NaN   \n",
       "2018    00264529      엔플렉스     040130    20170630                   NaN   \n",
       "2019    00358545    동서정보기술     055000    20170630                   NaN   \n",
       "2781    00231567     애드모바일     032600    20170630                   NaN   \n",
       "3884    00247939       씨모스     037600    20170630                   NaN   \n",
       "...          ...       ...        ...         ...                   ...   \n",
       "104138  00126414      삼성제약     001360    20231005               의약품 제조업   \n",
       "104148  00116426        코센     009730    20231205             1차 철강 제조업   \n",
       "104149  00107987      남해화학     025860    20231205  비료, 농약 및 살균, 살충제 제조업   \n",
       "104150  01068658    디딤이앤에프     217620    20231206                  음식점업   \n",
       "104153  00222213      피케이엘     039870    20231206                   NaN   \n",
       "\n",
       "                                    product corp_cls trading_halt issue  \n",
       "2006                                    NaN      NaN          NaN   NaN  \n",
       "2018                                    NaN      NaN          NaN   NaN  \n",
       "2019                                    NaN      NaN          NaN   NaN  \n",
       "2781                                    NaN      NaN          NaN   NaN  \n",
       "3884                                    NaN      NaN          NaN   NaN  \n",
       "...                                     ...      ...          ...   ...  \n",
       "104138  의약품(까스명수,쓸기담,에프킬라에어졸,액체우황청심원) 제조,도매        Y          NaN   NaN  \n",
       "104148                    스테인리스파이프, 선박용배관제작        K          NaN   NaN  \n",
       "104149             비료(요소,복합비료),공업제품원료 제조,도매        Y          NaN   NaN  \n",
       "104150                  직영음식점, 축산물가공, 프랜차이즈        K          NaN   NaN  \n",
       "104153                                  NaN      NaN          NaN   NaN  \n",
       "\n",
       "[3706 rows x 9 columns]"
      ]
     },
     "execution_count": 3,
     "metadata": {},
     "output_type": "execute_result"
    }
   ],
   "source": [
    "from st_etl_tools.etl_tools.fundamental.dart import DartFss\n",
    "\n",
    "dart_fss = DartFss(Private.dart_api_key)\n",
    "\n",
    "corps = dart_fss.load_corps(only_public=True)\n",
    "corps"
   ]
  },
  {
   "cell_type": "code",
   "execution_count": 4,
   "metadata": {},
   "outputs": [],
   "source": [
    "from st_etl_tools.etl_tools.fundamental.dart_preproc import CorpPreProc\n",
    "\n",
    "corp_preproc = CorpPreProc(corps)\n",
    "preproc_corps = corp_preproc()\n",
    "preproc_corps.to_csv(\"./data/corps.csv\")"
   ]
  },
  {
   "cell_type": "code",
   "execution_count": 5,
   "metadata": {},
   "outputs": [],
   "source": [
    "from st_etl_tools.etl_tools.fundamental.dart import DartExtractor\n",
    "\n",
    "dart_extractor = DartExtractor(Private.dart_api_key)\n",
    "\n",
    "reprt = \"11011\"\n",
    "corp_codes = list(set(corps[\"corp_code\"]))\n",
    "year = \"2023\"\n",
    "\n",
    "fundamentals_v1 = dart_extractor.load_fundamentals(corps=corp_codes, year=year, reprt=reprt)\n",
    "left_corp_codes = list(set(corp_codes) - set(fundamentals_v1[\"corp_code\"]))\n",
    "\n",
    "\n",
    "year = \"2022\"\n",
    "\n",
    "fundamentals_v2 = dart_extractor.load_fundamentals(corps=left_corp_codes, year=year, reprt=reprt)\n",
    "fundamentals = pd.concat([fundamentals_v1, fundamentals_v2], axis=0)"
   ]
  },
  {
   "cell_type": "code",
   "execution_count": 6,
   "metadata": {},
   "outputs": [],
   "source": [
    "from st_etl_tools.etl_tools.fundamental.dart_preproc import FundamentalPreProc\n",
    "\n",
    "fundamental_preproc = FundamentalPreProc(fundamentals)\n",
    "\n",
    "cfs_fundamental = fundamental_preproc(\"CFS\")\n",
    "cfs_fundamental.to_csv(\"./data/cfs_fundamental.csv\")\n",
    "\n",
    "ofs_fundamental = fundamental_preproc(\"OFS\")\n",
    "ofs_fundamental.to_csv(\"./data/ofs_fundamental.csv\")"
   ]
  },
  {
   "cell_type": "code",
   "execution_count": 7,
   "metadata": {},
   "outputs": [],
   "source": [
    "from st_etl_tools.etl_tools.technical.fdr import FdrExtractor\n",
    "\n",
    "fdr_extractor = FdrExtractor()\n",
    "stocks = fdr_extractor.load_stocks(only_major=True)"
   ]
  },
  {
   "cell_type": "code",
   "execution_count": 8,
   "metadata": {},
   "outputs": [],
   "source": [
    "from st_etl_tools.etl_tools.technical.fdr_preproc import StockPreProc\n",
    "\n",
    "\n",
    "stock_preproc = StockPreProc(stocks)\n",
    "stocks = stock_preproc()\n",
    "stocks.to_csv(\"./data/stocks.csv\")"
   ]
  },
  {
   "cell_type": "code",
   "execution_count": 9,
   "metadata": {},
   "outputs": [
    {
     "name": "stderr",
     "output_type": "stream",
     "text": [
      "  0%|          | 0/2623 [00:00<?, ?it/s]"
     ]
    },
    {
     "name": "stderr",
     "output_type": "stream",
     "text": [
      "100%|██████████| 2623/2623 [10:06<00:00,  4.33it/s]\n"
     ]
    }
   ],
   "source": [
    "stock_codes = list(set(stocks[\"stock_code\"]))\n",
    "end_date = dt.date.today() - dt.timedelta(days=1)\n",
    "start_date = end_date - dt.timedelta(days=365 * 5)\n",
    "\n",
    "ohlcvs = fdr_extractor.load_ohlcvs(stock_codes, start_date, end_date)"
   ]
  },
  {
   "cell_type": "code",
   "execution_count": 10,
   "metadata": {},
   "outputs": [],
   "source": [
    "from st_etl_tools.etl_tools.technical.fdr_preproc import OhlcvPreProc\n",
    "\n",
    "ohlcv_preproc = OhlcvPreProc(ohlcvs)\n",
    "ohlcvs = ohlcv_preproc()\n",
    "ohlcvs.to_csv(\"./data/ohlcvs.csv\")"
   ]
  },
  {
   "cell_type": "code",
   "execution_count": null,
   "metadata": {},
   "outputs": [],
   "source": []
  }
 ],
 "metadata": {
  "kernelspec": {
   "display_name": "quant_trading",
   "language": "python",
   "name": "python3"
  },
  "language_info": {
   "codemirror_mode": {
    "name": "ipython",
    "version": 3
   },
   "file_extension": ".py",
   "mimetype": "text/x-python",
   "name": "python",
   "nbconvert_exporter": "python",
   "pygments_lexer": "ipython3",
   "version": "3.10.13"
  }
 },
 "nbformat": 4,
 "nbformat_minor": 2
}
