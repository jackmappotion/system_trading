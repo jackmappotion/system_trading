{
 "cells": [
  {
   "cell_type": "code",
   "execution_count": 1,
   "metadata": {},
   "outputs": [],
   "source": [
    "# load data"
   ]
  },
  {
   "cell_type": "code",
   "execution_count": 2,
   "metadata": {},
   "outputs": [],
   "source": [
    "import pandas as pd\n",
    "\n",
    "raw_fundamental = pd.read_csv(\"./data/cfs_fundamental.csv\", index_col=0)\n",
    "raw_ohlcv = pd.read_csv(\"./data/ohlcvs.csv\", index_col=0, low_memory=False)\n",
    "raw_stocks = pd.read_csv(\"./data/stocks.csv\", index_col=0)"
   ]
  },
  {
   "cell_type": "code",
   "execution_count": 3,
   "metadata": {},
   "outputs": [],
   "source": [
    "from st_fa_tools.fa_tools.v2.preproc import OhlcvPreProc, StockPreProc, FundamentalPreProc\n",
    "from st_fa_tools.fa_tools.v2.preproc import FaPreProc\n",
    "\n",
    "fundamental_preproc = FundamentalPreProc(raw_fundamental)\n",
    "preproc_fundamental = fundamental_preproc()\n",
    "\n",
    "ohlcv_preproc = OhlcvPreProc(raw_ohlcv)\n",
    "prices = ohlcv_preproc.get_ma_prices(window=32)\n",
    "\n",
    "info_preproc = StockPreProc(raw_stocks)\n",
    "shares = info_preproc.get_shares()"
   ]
  },
  {
   "cell_type": "code",
   "execution_count": 4,
   "metadata": {},
   "outputs": [
    {
     "data": {
      "text/html": [
       "<div>\n",
       "<style scoped>\n",
       "    .dataframe tbody tr th:only-of-type {\n",
       "        vertical-align: middle;\n",
       "    }\n",
       "\n",
       "    .dataframe tbody tr th {\n",
       "        vertical-align: top;\n",
       "    }\n",
       "\n",
       "    .dataframe thead th {\n",
       "        text-align: right;\n",
       "    }\n",
       "</style>\n",
       "<table border=\"1\" class=\"dataframe\">\n",
       "  <thead>\n",
       "    <tr style=\"text-align: right;\">\n",
       "      <th></th>\n",
       "      <th>date</th>\n",
       "      <th>stock_code</th>\n",
       "      <th>factor</th>\n",
       "      <th>amount</th>\n",
       "      <th>reprt_no</th>\n",
       "    </tr>\n",
       "  </thead>\n",
       "  <tbody>\n",
       "    <tr>\n",
       "      <th>1</th>\n",
       "      <td>2020-11-25</td>\n",
       "      <td>950180</td>\n",
       "      <td>current_assets</td>\n",
       "      <td>2.762729e+10</td>\n",
       "      <td>2</td>\n",
       "    </tr>\n",
       "    <tr>\n",
       "      <th>2</th>\n",
       "      <td>2020-11-25</td>\n",
       "      <td>950180</td>\n",
       "      <td>fixed_assets</td>\n",
       "      <td>3.659419e+09</td>\n",
       "      <td>2</td>\n",
       "    </tr>\n",
       "    <tr>\n",
       "      <th>3</th>\n",
       "      <td>2020-11-25</td>\n",
       "      <td>950180</td>\n",
       "      <td>total_assets</td>\n",
       "      <td>3.128671e+10</td>\n",
       "      <td>2</td>\n",
       "    </tr>\n",
       "    <tr>\n",
       "      <th>4</th>\n",
       "      <td>2020-11-25</td>\n",
       "      <td>950180</td>\n",
       "      <td>current_liabilities</td>\n",
       "      <td>1.614036e+09</td>\n",
       "      <td>2</td>\n",
       "    </tr>\n",
       "    <tr>\n",
       "      <th>5</th>\n",
       "      <td>2020-11-25</td>\n",
       "      <td>950180</td>\n",
       "      <td>fixed_liabilities</td>\n",
       "      <td>4.289400e+08</td>\n",
       "      <td>2</td>\n",
       "    </tr>\n",
       "    <tr>\n",
       "      <th>...</th>\n",
       "      <td>...</td>\n",
       "      <td>...</td>\n",
       "      <td>...</td>\n",
       "      <td>...</td>\n",
       "      <td>...</td>\n",
       "    </tr>\n",
       "    <tr>\n",
       "      <th>11611</th>\n",
       "      <td>2024-02-28</td>\n",
       "      <td>207760</td>\n",
       "      <td>shares</td>\n",
       "      <td>8.033487e+07</td>\n",
       "      <td>0</td>\n",
       "    </tr>\n",
       "    <tr>\n",
       "      <th>11612</th>\n",
       "      <td>2024-02-28</td>\n",
       "      <td>011070</td>\n",
       "      <td>shares</td>\n",
       "      <td>2.366711e+07</td>\n",
       "      <td>0</td>\n",
       "    </tr>\n",
       "    <tr>\n",
       "      <th>11613</th>\n",
       "      <td>2024-02-29</td>\n",
       "      <td>004430</td>\n",
       "      <td>shares</td>\n",
       "      <td>2.400000e+07</td>\n",
       "      <td>0</td>\n",
       "    </tr>\n",
       "    <tr>\n",
       "      <th>11614</th>\n",
       "      <td>2024-02-29</td>\n",
       "      <td>018310</td>\n",
       "      <td>shares</td>\n",
       "      <td>1.470000e+07</td>\n",
       "      <td>0</td>\n",
       "    </tr>\n",
       "    <tr>\n",
       "      <th>11615</th>\n",
       "      <td>2024-03-04</td>\n",
       "      <td>010640</td>\n",
       "      <td>shares</td>\n",
       "      <td>1.000000e+07</td>\n",
       "      <td>0</td>\n",
       "    </tr>\n",
       "  </tbody>\n",
       "</table>\n",
       "<p>63624 rows × 5 columns</p>\n",
       "</div>"
      ],
      "text/plain": [
       "            date stock_code               factor        amount reprt_no\n",
       "1     2020-11-25     950180       current_assets  2.762729e+10        2\n",
       "2     2020-11-25     950180         fixed_assets  3.659419e+09        2\n",
       "3     2020-11-25     950180         total_assets  3.128671e+10        2\n",
       "4     2020-11-25     950180  current_liabilities  1.614036e+09        2\n",
       "5     2020-11-25     950180    fixed_liabilities  4.289400e+08        2\n",
       "...          ...        ...                  ...           ...      ...\n",
       "11611 2024-02-28     207760               shares  8.033487e+07        0\n",
       "11612 2024-02-28     011070               shares  2.366711e+07        0\n",
       "11613 2024-02-29     004430               shares  2.400000e+07        0\n",
       "11614 2024-02-29     018310               shares  1.470000e+07        0\n",
       "11615 2024-03-04     010640               shares  1.000000e+07        0\n",
       "\n",
       "[63624 rows x 5 columns]"
      ]
     },
     "execution_count": 4,
     "metadata": {},
     "output_type": "execute_result"
    }
   ],
   "source": [
    "fa_preproc = FaPreProc(preproc_fundamental, prices, shares)\n",
    "fundamental = fa_preproc()\n",
    "fundamental"
   ]
  },
  {
   "cell_type": "code",
   "execution_count": 5,
   "metadata": {},
   "outputs": [],
   "source": [
    "from st_fa_tools.fa_tools.v2.proc import FaProc\n",
    "\n",
    "fa_proc = FaProc(fundamental)\n",
    "\n",
    "fa_0 = fa_proc(\"0\")\n",
    "fa_1 = fa_proc(\"1\")\n",
    "fa_2 = fa_proc(\"2\")"
   ]
  },
  {
   "cell_type": "code",
   "execution_count": 6,
   "metadata": {},
   "outputs": [],
   "source": [
    "# TPBR이 감소 한다는 것은 기대치가 낮아지고 있다는 것\n",
    "tpbr_df = pd.concat(\n",
    "    [\n",
    "        fa_0[\"TPBR\"].rename(\"recent_1\"),\n",
    "        fa_1[\"TPBR\"].rename(\"recent_2\"),\n",
    "        fa_2[\"TPBR\"].rename(\"recent_3\"),\n",
    "    ],\n",
    "    axis=1,\n",
    ")\n",
    "_stock_codes_1 = tpbr_df[\n",
    "    (tpbr_df[\"recent_1\"] < tpbr_df[\"recent_2\"]) & (tpbr_df[\"recent_2\"] < tpbr_df[\"recent_3\"])\n",
    "].index"
   ]
  },
  {
   "cell_type": "code",
   "execution_count": 7,
   "metadata": {},
   "outputs": [],
   "source": [
    "# 매년 당기순이익이 증가\n",
    "net_profit_df = pd.concat(\n",
    "    [\n",
    "        fa_0[\"net_profit\"].rename(\"recent_1\"),\n",
    "        fa_1[\"net_profit\"].rename(\"recent_2\"),\n",
    "        fa_2[\"net_profit\"].rename(\"recent_3\"),\n",
    "    ],\n",
    "    axis=1,\n",
    ")\n",
    "_stock_codes_2 = net_profit_df[\n",
    "    (net_profit_df[\"recent_3\"] < net_profit_df[\"recent_2\"])\n",
    "    & (net_profit_df[\"recent_2\"] < net_profit_df[\"recent_1\"])\n",
    "].index"
   ]
  },
  {
   "cell_type": "code",
   "execution_count": 8,
   "metadata": {},
   "outputs": [],
   "source": [
    "# 유동 BPS가 price 이하\n",
    "_stock_codes_3 = fa_0[fa_0[\"CBPS\"] > fa_0[\"price\"]].index\n",
    "\n",
    "# 유동부채 비율 0.5 이하\n",
    "_stock_codes_4 = fa_0[fa_0[\"C_debt_ratio\"] < 0.5].index"
   ]
  },
  {
   "cell_type": "code",
   "execution_count": 9,
   "metadata": {},
   "outputs": [
    {
     "data": {
      "text/plain": [
       "17"
      ]
     },
     "execution_count": 9,
     "metadata": {},
     "output_type": "execute_result"
    }
   ],
   "source": [
    "fa_filtered_codes = (\n",
    "    set(_stock_codes_1) & set(_stock_codes_2) & set(_stock_codes_3) & set(_stock_codes_4)\n",
    ")\n",
    "len(fa_filtered_codes)"
   ]
  },
  {
   "cell_type": "code",
   "execution_count": 10,
   "metadata": {},
   "outputs": [],
   "source": [
    "from st_ta_tools.ta_tools.models.relative_strength import SimpleRelativeStrengthModel"
   ]
  },
  {
   "cell_type": "code",
   "execution_count": 11,
   "metadata": {},
   "outputs": [],
   "source": [
    "results = dict()\n",
    "RS_CFG = {\"window\": 30}\n",
    "for stock_code in fa_filtered_codes:\n",
    "    prices = raw_ohlcv[raw_ohlcv[\"stock_code\"] == stock_code][\"close\"].rename(\"price\")\n",
    "    simple_relative_strength_model = SimpleRelativeStrengthModel(prices, RS_CFG)\n",
    "    srs_indicator = simple_relative_strength_model.indicator()\n",
    "    srs_signal = simple_relative_strength_model.signal(srs_indicator, continious=True, trend=False)\n",
    "    result = {\n",
    "        \"recent_10\": srs_signal[\"signal\"].tail(10).mean().round(5),\n",
    "        \"recent_30\": srs_signal[\"signal\"].tail(30).mean().round(5),\n",
    "        \"recent_60\": srs_signal[\"signal\"].tail(60).mean().round(5),\n",
    "    }\n",
    "    results[stock_code] = result"
   ]
  },
  {
   "cell_type": "code",
   "execution_count": 12,
   "metadata": {},
   "outputs": [
    {
     "data": {
      "text/html": [
       "<div>\n",
       "<style scoped>\n",
       "    .dataframe tbody tr th:only-of-type {\n",
       "        vertical-align: middle;\n",
       "    }\n",
       "\n",
       "    .dataframe tbody tr th {\n",
       "        vertical-align: top;\n",
       "    }\n",
       "\n",
       "    .dataframe thead th {\n",
       "        text-align: right;\n",
       "    }\n",
       "</style>\n",
       "<table border=\"1\" class=\"dataframe\">\n",
       "  <thead>\n",
       "    <tr style=\"text-align: right;\">\n",
       "      <th></th>\n",
       "      <th>recent_10</th>\n",
       "      <th>recent_30</th>\n",
       "      <th>recent_60</th>\n",
       "    </tr>\n",
       "  </thead>\n",
       "  <tbody>\n",
       "    <tr>\n",
       "      <th>002810</th>\n",
       "      <td>-0.44572</td>\n",
       "      <td>-0.30278</td>\n",
       "      <td>-0.13453</td>\n",
       "    </tr>\n",
       "    <tr>\n",
       "      <th>006200</th>\n",
       "      <td>0.04107</td>\n",
       "      <td>-0.11522</td>\n",
       "      <td>-0.11930</td>\n",
       "    </tr>\n",
       "    <tr>\n",
       "      <th>094970</th>\n",
       "      <td>-0.23789</td>\n",
       "      <td>-0.27245</td>\n",
       "      <td>-0.13613</td>\n",
       "    </tr>\n",
       "    <tr>\n",
       "      <th>020000</th>\n",
       "      <td>0.00491</td>\n",
       "      <td>0.03293</td>\n",
       "      <td>-0.01431</td>\n",
       "    </tr>\n",
       "    <tr>\n",
       "      <th>111770</th>\n",
       "      <td>-0.18563</td>\n",
       "      <td>-0.06295</td>\n",
       "      <td>0.07845</td>\n",
       "    </tr>\n",
       "    <tr>\n",
       "      <th>078140</th>\n",
       "      <td>0.07941</td>\n",
       "      <td>0.08576</td>\n",
       "      <td>0.01402</td>\n",
       "    </tr>\n",
       "    <tr>\n",
       "      <th>029460</th>\n",
       "      <td>-0.18565</td>\n",
       "      <td>-0.25486</td>\n",
       "      <td>-0.26918</td>\n",
       "    </tr>\n",
       "    <tr>\n",
       "      <th>002920</th>\n",
       "      <td>-0.22367</td>\n",
       "      <td>0.03459</td>\n",
       "      <td>-0.01248</td>\n",
       "    </tr>\n",
       "    <tr>\n",
       "      <th>005680</th>\n",
       "      <td>-0.06665</td>\n",
       "      <td>-0.25078</td>\n",
       "      <td>-0.30311</td>\n",
       "    </tr>\n",
       "    <tr>\n",
       "      <th>008110</th>\n",
       "      <td>-0.01087</td>\n",
       "      <td>0.06695</td>\n",
       "      <td>0.22053</td>\n",
       "    </tr>\n",
       "    <tr>\n",
       "      <th>088790</th>\n",
       "      <td>-0.09221</td>\n",
       "      <td>0.06020</td>\n",
       "      <td>0.03107</td>\n",
       "    </tr>\n",
       "    <tr>\n",
       "      <th>046310</th>\n",
       "      <td>0.22776</td>\n",
       "      <td>0.21974</td>\n",
       "      <td>0.22275</td>\n",
       "    </tr>\n",
       "    <tr>\n",
       "      <th>094840</th>\n",
       "      <td>-0.11119</td>\n",
       "      <td>-0.21494</td>\n",
       "      <td>-0.15607</td>\n",
       "    </tr>\n",
       "    <tr>\n",
       "      <th>241770</th>\n",
       "      <td>-0.03503</td>\n",
       "      <td>-0.12156</td>\n",
       "      <td>-0.09367</td>\n",
       "    </tr>\n",
       "    <tr>\n",
       "      <th>000850</th>\n",
       "      <td>-0.33272</td>\n",
       "      <td>-0.03559</td>\n",
       "      <td>0.04124</td>\n",
       "    </tr>\n",
       "    <tr>\n",
       "      <th>010060</th>\n",
       "      <td>0.11493</td>\n",
       "      <td>0.01945</td>\n",
       "      <td>-0.00989</td>\n",
       "    </tr>\n",
       "    <tr>\n",
       "      <th>005710</th>\n",
       "      <td>-0.23750</td>\n",
       "      <td>-0.13142</td>\n",
       "      <td>-0.08589</td>\n",
       "    </tr>\n",
       "  </tbody>\n",
       "</table>\n",
       "</div>"
      ],
      "text/plain": [
       "        recent_10  recent_30  recent_60\n",
       "002810   -0.44572   -0.30278   -0.13453\n",
       "006200    0.04107   -0.11522   -0.11930\n",
       "094970   -0.23789   -0.27245   -0.13613\n",
       "020000    0.00491    0.03293   -0.01431\n",
       "111770   -0.18563   -0.06295    0.07845\n",
       "078140    0.07941    0.08576    0.01402\n",
       "029460   -0.18565   -0.25486   -0.26918\n",
       "002920   -0.22367    0.03459   -0.01248\n",
       "005680   -0.06665   -0.25078   -0.30311\n",
       "008110   -0.01087    0.06695    0.22053\n",
       "088790   -0.09221    0.06020    0.03107\n",
       "046310    0.22776    0.21974    0.22275\n",
       "094840   -0.11119   -0.21494   -0.15607\n",
       "241770   -0.03503   -0.12156   -0.09367\n",
       "000850   -0.33272   -0.03559    0.04124\n",
       "010060    0.11493    0.01945   -0.00989\n",
       "005710   -0.23750   -0.13142   -0.08589"
      ]
     },
     "execution_count": 12,
     "metadata": {},
     "output_type": "execute_result"
    }
   ],
   "source": [
    "techinical_df = pd.DataFrame(results).T\n",
    "techinical_df"
   ]
  },
  {
   "cell_type": "code",
   "execution_count": 13,
   "metadata": {},
   "outputs": [
    {
     "data": {
      "text/plain": [
       "10"
      ]
     },
     "execution_count": 13,
     "metadata": {},
     "output_type": "execute_result"
    }
   ],
   "source": [
    "ta_filtered_codes = techinical_df[\n",
    "    (techinical_df[\"recent_10\"] > 0)\n",
    "    | (techinical_df[\"recent_30\"] > 0)\n",
    "    | (techinical_df[\"recent_60\"] > 0)\n",
    "].index\n",
    "len(ta_filtered_codes)"
   ]
  },
  {
   "cell_type": "code",
   "execution_count": 14,
   "metadata": {},
   "outputs": [],
   "source": [
    "from st_pa_tools.pa_tools.generators.highlow_based_generator import HighLowBasedPositionGenerator\n",
    "from st_pa_tools.pa_tools.models.position_rank_index import PositionRankIndexModel\n",
    "\n",
    "hlb_pg = HighLowBasedPositionGenerator()\n",
    "pri_model = PositionRankIndexModel()"
   ]
  },
  {
   "cell_type": "code",
   "execution_count": 15,
   "metadata": {},
   "outputs": [],
   "source": [
    "from tqdm import tqdm"
   ]
  },
  {
   "cell_type": "code",
   "execution_count": 16,
   "metadata": {},
   "outputs": [
    {
     "name": "stderr",
     "output_type": "stream",
     "text": [
      "100%|██████████| 10/10 [00:00<00:00, 11.67it/s]\n"
     ]
    }
   ],
   "source": [
    "time_size = 90\n",
    "position_size = 300\n",
    "results = dict()\n",
    "for stock_code in tqdm(ta_filtered_codes):\n",
    "    single_ohlcv = raw_ohlcv[raw_ohlcv[\"stock_code\"] == stock_code]\n",
    "    single_ohlcv.columns = [col.lower() for col in single_ohlcv.columns]\n",
    "    #\n",
    "    highs = single_ohlcv[\"high\"]\n",
    "    lows = single_ohlcv[\"low\"]\n",
    "    volumes = single_ohlcv[\"volume\"]\n",
    "    #\n",
    "    position = hlb_pg.get_time_dependent_volume_position(\n",
    "        highs, lows, volumes, time_size, position_size\n",
    "    )\n",
    "    price = single_ohlcv[\"close\"].iloc[-1]\n",
    "    pri = pri_model.calc(price, position)\n",
    "    results[stock_code] = pri"
   ]
  },
  {
   "cell_type": "code",
   "execution_count": 17,
   "metadata": {},
   "outputs": [
    {
     "data": {
      "text/html": [
       "<div>\n",
       "<style scoped>\n",
       "    .dataframe tbody tr th:only-of-type {\n",
       "        vertical-align: middle;\n",
       "    }\n",
       "\n",
       "    .dataframe tbody tr th {\n",
       "        vertical-align: top;\n",
       "    }\n",
       "\n",
       "    .dataframe thead th {\n",
       "        text-align: right;\n",
       "    }\n",
       "</style>\n",
       "<table border=\"1\" class=\"dataframe\">\n",
       "  <thead>\n",
       "    <tr style=\"text-align: right;\">\n",
       "      <th></th>\n",
       "      <th>pri</th>\n",
       "    </tr>\n",
       "  </thead>\n",
       "  <tbody>\n",
       "    <tr>\n",
       "      <th>006200</th>\n",
       "      <td>0.91</td>\n",
       "    </tr>\n",
       "    <tr>\n",
       "      <th>020000</th>\n",
       "      <td>0.81</td>\n",
       "    </tr>\n",
       "    <tr>\n",
       "      <th>111770</th>\n",
       "      <td>0.92</td>\n",
       "    </tr>\n",
       "    <tr>\n",
       "      <th>078140</th>\n",
       "      <td>0.95</td>\n",
       "    </tr>\n",
       "    <tr>\n",
       "      <th>002920</th>\n",
       "      <td>0.63</td>\n",
       "    </tr>\n",
       "    <tr>\n",
       "      <th>008110</th>\n",
       "      <td>0.77</td>\n",
       "    </tr>\n",
       "    <tr>\n",
       "      <th>088790</th>\n",
       "      <td>0.01</td>\n",
       "    </tr>\n",
       "    <tr>\n",
       "      <th>046310</th>\n",
       "      <td>0.93</td>\n",
       "    </tr>\n",
       "    <tr>\n",
       "      <th>000850</th>\n",
       "      <td>0.31</td>\n",
       "    </tr>\n",
       "    <tr>\n",
       "      <th>010060</th>\n",
       "      <td>0.90</td>\n",
       "    </tr>\n",
       "  </tbody>\n",
       "</table>\n",
       "</div>"
      ],
      "text/plain": [
       "         pri\n",
       "006200  0.91\n",
       "020000  0.81\n",
       "111770  0.92\n",
       "078140  0.95\n",
       "002920  0.63\n",
       "008110  0.77\n",
       "088790  0.01\n",
       "046310  0.93\n",
       "000850  0.31\n",
       "010060  0.90"
      ]
     },
     "execution_count": 17,
     "metadata": {},
     "output_type": "execute_result"
    }
   ],
   "source": [
    "position_df = pd.DataFrame([results], index=[\"pri\"]).T\n",
    "position_df"
   ]
  },
  {
   "cell_type": "code",
   "execution_count": 18,
   "metadata": {},
   "outputs": [],
   "source": [
    "pa_filtered_stocks = position_df[(0.6 < position_df[\"pri\"]) & (position_df[\"pri\"] < 0.8)].index"
   ]
  },
  {
   "cell_type": "code",
   "execution_count": 19,
   "metadata": {},
   "outputs": [],
   "source": [
    "corps = pd.read_csv(\"./data/corps.csv\", index_col=0)\n",
    "corps[\"stock_code\"] = corps[\"stock_code\"].apply(lambda x: str(x).zfill(6))\n",
    "\n",
    "stocks = pd.read_csv(\"./data/stocks.csv\", index_col=0)\n",
    "stocks[\"stock_code\"] = stocks[\"stock_code\"].apply(lambda x: str(x).zfill(6))"
   ]
  },
  {
   "cell_type": "code",
   "execution_count": 20,
   "metadata": {},
   "outputs": [],
   "source": [
    "info = pd.merge(left=corps, right=stocks.drop(columns=[\"stock_nm\"]), on=[\"stock_code\"])"
   ]
  },
  {
   "cell_type": "code",
   "execution_count": 21,
   "metadata": {},
   "outputs": [
    {
     "data": {
      "text/html": [
       "<div>\n",
       "<style scoped>\n",
       "    .dataframe tbody tr th:only-of-type {\n",
       "        vertical-align: middle;\n",
       "    }\n",
       "\n",
       "    .dataframe tbody tr th {\n",
       "        vertical-align: top;\n",
       "    }\n",
       "\n",
       "    .dataframe thead th {\n",
       "        text-align: right;\n",
       "    }\n",
       "</style>\n",
       "<table border=\"1\" class=\"dataframe\">\n",
       "  <thead>\n",
       "    <tr style=\"text-align: right;\">\n",
       "      <th></th>\n",
       "      <th>stock_code</th>\n",
       "      <th>stock_nm</th>\n",
       "      <th>sector</th>\n",
       "      <th>product</th>\n",
       "      <th>market</th>\n",
       "      <th>shares</th>\n",
       "      <th>market_cap</th>\n",
       "    </tr>\n",
       "  </thead>\n",
       "  <tbody>\n",
       "    <tr>\n",
       "      <th>295</th>\n",
       "      <td>002920</td>\n",
       "      <td>유성기업</td>\n",
       "      <td>자동차 신품 부품 제조업</td>\n",
       "      <td>철도차량부품(피스턴링,실린더라이너,발브가이드,타펫트),자동차부품,주강,주물 제조,판매</td>\n",
       "      <td>KOSPI</td>\n",
       "      <td>25947500</td>\n",
       "      <td>75118012500</td>\n",
       "    </tr>\n",
       "    <tr>\n",
       "      <th>241</th>\n",
       "      <td>008110</td>\n",
       "      <td>대동전자</td>\n",
       "      <td>통신 및 방송 장비 제조업</td>\n",
       "      <td>통신음향,전자기계기구용 플라스틱제품 제조,도매</td>\n",
       "      <td>KOSPI</td>\n",
       "      <td>10490447</td>\n",
       "      <td>70810517250</td>\n",
       "    </tr>\n",
       "  </tbody>\n",
       "</table>\n",
       "</div>"
      ],
      "text/plain": [
       "    stock_code stock_nm          sector  \\\n",
       "295     002920     유성기업   자동차 신품 부품 제조업   \n",
       "241     008110     대동전자  통신 및 방송 장비 제조업   \n",
       "\n",
       "                                             product market    shares  \\\n",
       "295  철도차량부품(피스턴링,실린더라이너,발브가이드,타펫트),자동차부품,주강,주물 제조,판매  KOSPI  25947500   \n",
       "241                        통신음향,전자기계기구용 플라스틱제품 제조,도매  KOSPI  10490447   \n",
       "\n",
       "      market_cap  \n",
       "295  75118012500  \n",
       "241  70810517250  "
      ]
     },
     "execution_count": 21,
     "metadata": {},
     "output_type": "execute_result"
    }
   ],
   "source": [
    "final_df = info[info[\"stock_code\"].isin(pa_filtered_stocks)].sort_values(\n",
    "    \"market_cap\", ascending=False\n",
    ")\n",
    "final_df"
   ]
  },
  {
   "cell_type": "code",
   "execution_count": 22,
   "metadata": {},
   "outputs": [
    {
     "data": {
      "text/html": [
       "<div>\n",
       "<style scoped>\n",
       "    .dataframe tbody tr th:only-of-type {\n",
       "        vertical-align: middle;\n",
       "    }\n",
       "\n",
       "    .dataframe tbody tr th {\n",
       "        vertical-align: top;\n",
       "    }\n",
       "\n",
       "    .dataframe thead th {\n",
       "        text-align: right;\n",
       "    }\n",
       "</style>\n",
       "<table border=\"1\" class=\"dataframe\">\n",
       "  <thead>\n",
       "    <tr style=\"text-align: right;\">\n",
       "      <th>factor</th>\n",
       "      <th>CBPS</th>\n",
       "      <th>TBPS</th>\n",
       "      <th>price</th>\n",
       "    </tr>\n",
       "    <tr>\n",
       "      <th>stock_code</th>\n",
       "      <th></th>\n",
       "      <th></th>\n",
       "      <th></th>\n",
       "    </tr>\n",
       "  </thead>\n",
       "  <tbody>\n",
       "    <tr>\n",
       "      <th>002920</th>\n",
       "      <td>5210</td>\n",
       "      <td>12611</td>\n",
       "      <td>2875</td>\n",
       "    </tr>\n",
       "    <tr>\n",
       "      <th>008110</th>\n",
       "      <td>9276</td>\n",
       "      <td>21447</td>\n",
       "      <td>8559</td>\n",
       "    </tr>\n",
       "  </tbody>\n",
       "</table>\n",
       "</div>"
      ],
      "text/plain": [
       "factor      CBPS   TBPS  price\n",
       "stock_code                    \n",
       "002920      5210  12611   2875\n",
       "008110      9276  21447   8559"
      ]
     },
     "execution_count": 22,
     "metadata": {},
     "output_type": "execute_result"
    }
   ],
   "source": [
    "fa_0[fa_0.index.isin(pa_filtered_stocks)].loc[:, [\"CBPS\", \"TBPS\", \"price\"]].astype(int)"
   ]
  },
  {
   "cell_type": "code",
   "execution_count": 23,
   "metadata": {},
   "outputs": [],
   "source": [
    "buying_stocks = list(set(final_df[final_df[\"market\"] == \"KOSPI\"][\"stock_code\"]))"
   ]
  },
  {
   "cell_type": "code",
   "execution_count": 24,
   "metadata": {},
   "outputs": [],
   "source": [
    "def get_latest_price(ohlcvs,stock_code):\n",
    "    latest_price = ohlcvs[ohlcvs['stock_code'] == stock_code]['close'].iloc[-1]\n",
    "    return latest_price"
   ]
  },
  {
   "cell_type": "code",
   "execution_count": 25,
   "metadata": {},
   "outputs": [
    {
     "data": {
      "text/plain": [
       "[('008110', 7161.0), ('002920', 3055.5)]"
      ]
     },
     "execution_count": 25,
     "metadata": {},
     "output_type": "execute_result"
    }
   ],
   "source": [
    "buying_stock_price = [\n",
    "    (stock_code, get_latest_price(ohlcvs=raw_ohlcv, stock_code=stock_code) * 1.05)\n",
    "    for stock_code in buying_stocks\n",
    "]\n",
    "buying_stock_price"
   ]
  },
  {
   "cell_type": "code",
   "execution_count": 26,
   "metadata": {},
   "outputs": [],
   "source": [
    "import pickle\n",
    "\n",
    "with open(\"./data/buying_stock_price.pkl\", \"wb\") as f:\n",
    "    pickle.dump(buying_stock_price, f)"
   ]
  },
  {
   "cell_type": "code",
   "execution_count": null,
   "metadata": {},
   "outputs": [],
   "source": []
  }
 ],
 "metadata": {
  "kernelspec": {
   "display_name": "quant_trading",
   "language": "python",
   "name": "python3"
  },
  "language_info": {
   "codemirror_mode": {
    "name": "ipython",
    "version": 3
   },
   "file_extension": ".py",
   "mimetype": "text/x-python",
   "name": "python",
   "nbconvert_exporter": "python",
   "pygments_lexer": "ipython3",
   "version": "3.10.13"
  }
 },
 "nbformat": 4,
 "nbformat_minor": 2
}
