{
 "cells": [
  {
   "cell_type": "code",
   "execution_count": 2,
   "metadata": {},
   "outputs": [],
   "source": [
    "import pickle\n",
    "import datetime as dt\n",
    "import pandas as pd\n",
    "\n",
    "from st_order_tools.order_tools.controller import Controller, StatusController, OrderController\n",
    "from private import api_key, api_secret, acc_no"
   ]
  },
  {
   "cell_type": "code",
   "execution_count": 3,
   "metadata": {},
   "outputs": [],
   "source": [
    "controller = Controller(api_key, api_secret, acc_no)\n",
    "controller.set_access_token()"
   ]
  },
  {
   "cell_type": "code",
   "execution_count": 4,
   "metadata": {},
   "outputs": [],
   "source": [
    "status_controller = StatusController(controller)"
   ]
  },
  {
   "cell_type": "code",
   "execution_count": 5,
   "metadata": {},
   "outputs": [
    {
     "data": {
      "text/html": [
       "<div>\n",
       "<style scoped>\n",
       "    .dataframe tbody tr th:only-of-type {\n",
       "        vertical-align: middle;\n",
       "    }\n",
       "\n",
       "    .dataframe tbody tr th {\n",
       "        vertical-align: top;\n",
       "    }\n",
       "\n",
       "    .dataframe thead th {\n",
       "        text-align: right;\n",
       "    }\n",
       "</style>\n",
       "<table border=\"1\" class=\"dataframe\">\n",
       "  <thead>\n",
       "    <tr style=\"text-align: right;\">\n",
       "      <th></th>\n",
       "      <th>cash</th>\n",
       "      <th>stock</th>\n",
       "      <th>total</th>\n",
       "    </tr>\n",
       "  </thead>\n",
       "  <tbody>\n",
       "    <tr>\n",
       "      <th>0</th>\n",
       "      <td>47222.0</td>\n",
       "      <td>51380</td>\n",
       "      <td>98602</td>\n",
       "    </tr>\n",
       "  </tbody>\n",
       "</table>\n",
       "</div>"
      ],
      "text/plain": [
       "      cash  stock  total\n",
       "0  47222.0  51380  98602"
      ]
     },
     "execution_count": 5,
     "metadata": {},
     "output_type": "execute_result"
    }
   ],
   "source": [
    "balance_df = status_controller.load_balance()\n",
    "balance_df"
   ]
  },
  {
   "cell_type": "code",
   "execution_count": 6,
   "metadata": {},
   "outputs": [
    {
     "data": {
      "text/html": [
       "<div>\n",
       "<style scoped>\n",
       "    .dataframe tbody tr th:only-of-type {\n",
       "        vertical-align: middle;\n",
       "    }\n",
       "\n",
       "    .dataframe tbody tr th {\n",
       "        vertical-align: top;\n",
       "    }\n",
       "\n",
       "    .dataframe thead th {\n",
       "        text-align: right;\n",
       "    }\n",
       "</style>\n",
       "<table border=\"1\" class=\"dataframe\">\n",
       "  <thead>\n",
       "    <tr style=\"text-align: right;\">\n",
       "      <th></th>\n",
       "      <th>stock_code</th>\n",
       "      <th>stock_nm</th>\n",
       "      <th>buying_price</th>\n",
       "      <th>current_price</th>\n",
       "      <th>quantity</th>\n",
       "      <th>profit_pct</th>\n",
       "    </tr>\n",
       "  </thead>\n",
       "  <tbody>\n",
       "    <tr>\n",
       "      <th>0</th>\n",
       "      <td>008110</td>\n",
       "      <td>대동전자</td>\n",
       "      <td>6890.0000</td>\n",
       "      <td>6740</td>\n",
       "      <td>5</td>\n",
       "      <td>-2.177%</td>\n",
       "    </tr>\n",
       "    <tr>\n",
       "      <th>1</th>\n",
       "      <td>011200</td>\n",
       "      <td>HMM</td>\n",
       "      <td>18860.0000</td>\n",
       "      <td>17670</td>\n",
       "      <td>1</td>\n",
       "      <td>-6.31%</td>\n",
       "    </tr>\n",
       "  </tbody>\n",
       "</table>\n",
       "</div>"
      ],
      "text/plain": [
       "  stock_code stock_nm buying_price current_price quantity profit_pct\n",
       "0     008110     대동전자    6890.0000          6740        5    -2.177%\n",
       "1     011200      HMM   18860.0000         17670        1     -6.31%"
      ]
     },
     "execution_count": 6,
     "metadata": {},
     "output_type": "execute_result"
    }
   ],
   "source": [
    "position_df = status_controller.load_position()\n",
    "position_df"
   ]
  },
  {
   "cell_type": "code",
   "execution_count": 7,
   "metadata": {},
   "outputs": [],
   "source": [
    "with open(\"./data/buying_stock_price.pkl\", \"rb\") as f:\n",
    "    buying_stock_price = pickle.load(f)\n",
    "\n",
    "cash = balance_df[\"cash\"].iloc[0]\n",
    "buying_orders = [\n",
    "    (stock_code, int((cash // len(buying_stock_price)) // price))\n",
    "    for (stock_code, price) in buying_stock_price\n",
    "]"
   ]
  },
  {
   "cell_type": "code",
   "execution_count": 9,
   "metadata": {},
   "outputs": [],
   "source": [
    "order_controller = OrderController(controller)\n",
    "\n",
    "buying_resps = list()\n",
    "for buying_order in buying_orders:\n",
    "    resp = order_controller.make_market_buy_order(*buying_order)\n",
    "    buying_resps.append(resp)"
   ]
  },
  {
   "cell_type": "code",
   "execution_count": 10,
   "metadata": {},
   "outputs": [
    {
     "data": {
      "text/html": [
       "<div>\n",
       "<style scoped>\n",
       "    .dataframe tbody tr th:only-of-type {\n",
       "        vertical-align: middle;\n",
       "    }\n",
       "\n",
       "    .dataframe tbody tr th {\n",
       "        vertical-align: top;\n",
       "    }\n",
       "\n",
       "    .dataframe thead th {\n",
       "        text-align: right;\n",
       "    }\n",
       "</style>\n",
       "<table border=\"1\" class=\"dataframe\">\n",
       "  <thead>\n",
       "    <tr style=\"text-align: right;\">\n",
       "      <th></th>\n",
       "      <th>stock_code</th>\n",
       "      <th>quantity</th>\n",
       "      <th>msg1</th>\n",
       "    </tr>\n",
       "  </thead>\n",
       "  <tbody>\n",
       "    <tr>\n",
       "      <th>0</th>\n",
       "      <td>008110</td>\n",
       "      <td>3</td>\n",
       "      <td>주문 전송 완료 되었습니다.</td>\n",
       "    </tr>\n",
       "    <tr>\n",
       "      <th>1</th>\n",
       "      <td>002920</td>\n",
       "      <td>7</td>\n",
       "      <td>주문 전송 완료 되었습니다.</td>\n",
       "    </tr>\n",
       "  </tbody>\n",
       "</table>\n",
       "</div>"
      ],
      "text/plain": [
       "  stock_code  quantity             msg1\n",
       "0     008110         3  주문 전송 완료 되었습니다.\n",
       "1     002920         7  주문 전송 완료 되었습니다."
      ]
     },
     "execution_count": 10,
     "metadata": {},
     "output_type": "execute_result"
    }
   ],
   "source": [
    "_buying_resps_df = pd.DataFrame(buying_resps)\n",
    "buying_resps_df = pd.concat(\n",
    "    [\n",
    "        _buying_resps_df[\"meta\"].apply(pd.Series),\n",
    "        _buying_resps_df.loc[:, [\"msg1\"]],\n",
    "    ],\n",
    "    axis=1,\n",
    ")\n",
    "buying_resps_df"
   ]
  },
  {
   "cell_type": "code",
   "execution_count": 11,
   "metadata": {},
   "outputs": [
    {
     "data": {
      "text/plain": [
       "[]"
      ]
     },
     "execution_count": 11,
     "metadata": {},
     "output_type": "execute_result"
    }
   ],
   "source": [
    "lower_limit = -10\n",
    "upper_limit = 30\n",
    "\n",
    "\n",
    "def filter_upper_limit(position_df, limit):\n",
    "    filtered_position_df = position_df[\n",
    "        position_df[\"profit_pct\"].apply(lambda x: limit < float(x.rstrip(\"%\")))\n",
    "    ]\n",
    "    return filtered_position_df\n",
    "\n",
    "\n",
    "def filter_lower_limit(position_df, limit):\n",
    "    filtered_position_df = position_df[\n",
    "        position_df[\"profit_pct\"].apply(lambda x: float(x.rstrip(\"%\")) < limit)\n",
    "    ]\n",
    "    return filtered_position_df\n",
    "\n",
    "\n",
    "selling_position_df = pd.concat(\n",
    "    [filter_lower_limit(position_df, -10), filter_upper_limit(position_df, 30)], axis=0\n",
    ")\n",
    "selling_orders = list(\n",
    "    selling_position_df.loc[:, [\"stock_code\", \"quantity\"]].itertuples(index=False, name=None)\n",
    ")\n",
    "selling_orders"
   ]
  },
  {
   "cell_type": "code",
   "execution_count": 12,
   "metadata": {},
   "outputs": [],
   "source": [
    "if selling_orders:\n",
    "    selling_resps = list()\n",
    "    for selling_order in selling_orders:\n",
    "        resp = order_controller.make_market_sell_order(*selling_order)\n",
    "        selling_resps.append(resp)\n",
    "    _selling_resps_df = pd.DataFrame(selling_resps)\n",
    "    selling_resps_df = pd.concat(\n",
    "        [\n",
    "            _selling_resps_df[\"meta\"].apply(pd.Series),\n",
    "            _selling_resps_df.loc[:, [\"msg1\"]],\n",
    "        ],\n",
    "        axis=1,\n",
    "    )\n",
    "    selling_resps_df"
   ]
  },
  {
   "cell_type": "code",
   "execution_count": null,
   "metadata": {},
   "outputs": [],
   "source": []
  }
 ],
 "metadata": {
  "kernelspec": {
   "display_name": "quant_trading",
   "language": "python",
   "name": "python3"
  },
  "language_info": {
   "codemirror_mode": {
    "name": "ipython",
    "version": 3
   },
   "file_extension": ".py",
   "mimetype": "text/x-python",
   "name": "python",
   "nbconvert_exporter": "python",
   "pygments_lexer": "ipython3",
   "version": "3.10.13"
  }
 },
 "nbformat": 4,
 "nbformat_minor": 2
}
